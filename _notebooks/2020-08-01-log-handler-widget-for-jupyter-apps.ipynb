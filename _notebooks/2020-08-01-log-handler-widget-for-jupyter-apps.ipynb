{
 "cells": [
  {
   "cell_type": "markdown",
   "metadata": {},
   "source": [
    "# Logger Handler Widget for Jupyter-based Gateway Tools\n",
    "> An example of a log handler widget used to replace intrusive Jupyter cell output. \n",
    "\n",
    "- toc: true \n",
    "- badges: true\n",
    "- comments: true\n",
    "- categories: [jupyter]\n",
    "- published: false"
   ]
  },
  {
   "cell_type": "markdown",
   "metadata": {},
   "source": [
    "Jupyter notebooks are increasingly being used to develop tools on science gateways because they are interactive, easy to deploy, and portable. The developer may want a way to capture logs in a way that doesn't cause additional cell output. The first task is to inhibit such output."
   ]
  },
  {
   "cell_type": "code",
   "execution_count": 4,
   "metadata": {},
   "outputs": [
    {
     "name": "stderr",
     "output_type": "stream",
     "text": [
      "<ipython-input-4-e8947fda65c4>:2: UserWarning: Not caputured\n",
      "  warnings.warn(\"Not caputured\")\n"
     ]
    }
   ],
   "source": [
    "import warnings\n",
    "warnings.warn(\"Not caputured\")"
   ]
  },
  {
   "cell_type": "code",
   "execution_count": 5,
   "metadata": {},
   "outputs": [],
   "source": [
    "import logging\n",
    "logging.captureWarnings(True)"
   ]
  },
  {
   "cell_type": "code",
   "execution_count": 7,
   "metadata": {},
   "outputs": [],
   "source": [
    "warnings.warn(\"Caputured!\")"
   ]
  },
  {
   "cell_type": "markdown",
   "metadata": {},
   "source": [
    "The next step is to create a widget designed to handle, and thereby display, these captured logs."
   ]
  },
  {
   "cell_type": "code",
   "execution_count": 11,
   "metadata": {},
   "outputs": [],
   "source": [
    "# log.py\n",
    "import logging\n",
    "import ipywidgets as ipyw\n",
    "from IPython.display import Javascript\n",
    "\n",
    "class LogHandler(logging.Handler): \n",
    "    \n",
    "    def __init__(self):\n",
    "        super().__init__()\n",
    "        layout = {'width': '100%', 'height': '250px'}\n",
    "        self.widget = ipyw.Textarea(value='', layout=layout)\n",
    "        self.widget.disabled=True\n",
    "        self.widget.add_class('loggingHandler')\n",
    "\n",
    "    def emit(self, record):\n",
    "        ''' Overload of logging.Handler method '''\n",
    "        formatted_record = self.format(record)\n",
    "        self.widget.value += str(formatted_record) + '\\n'     \n",
    "        \n",
    "    def display(self):\n",
    "        display(self.widget)\n",
    "           \n",
    "    def createLogger(self, name):\n",
    "        logger = logging.getLogger(name)\n",
    "        logger.setLevel(LEVEL)\n",
    "        logger.addHandler(self)\n",
    "        return logger\n",
    "    \n",
    "LEVEL = logging.INFO\n",
    "FORMATTER = logging.Formatter('%(name)s:%(lineno)d: %(message)s')\n",
    "HANDLER = LogHandler()\n",
    "HANDLER.setFormatter(FORMATTER)\n",
    "logger = HANDLER.createLogger(__name__)\n",
    "logger.info('Log handler setup complete.')"
   ]
  },
  {
   "cell_type": "code",
   "execution_count": 12,
   "metadata": {},
   "outputs": [
    {
     "data": {
      "text/plain": [
       "<LogHandler (NOTSET)>"
      ]
     },
     "execution_count": 12,
     "metadata": {},
     "output_type": "execute_result"
    }
   ],
   "source": [
    "HANDLER"
   ]
  },
  {
   "cell_type": "code",
   "execution_count": 13,
   "metadata": {},
   "outputs": [],
   "source": [
    "# interface.py\n",
    "import os\n",
    "from IPython.display import Javascript, HTML\n",
    "\n",
    "loggingHandler = HANDLER.widget\n",
    "logger = HANDLER.createLogger(__name__)\n",
    "\n",
    "class Interface:\n",
    "    ''' Interface contains two major app components: Four main tabs and output log accordion '''\n",
    "    FILE_BROWSER_COLS = ['filename','size','date/time']\n",
    "\n",
    "    def __init__(self):\n",
    "\n",
    "        \n",
    "        ''' Add LogHandler.logTextarea widget to LogAccordian and display '''\n",
    "        logAccordion = ipyw.Accordion()\n",
    "        logAccordion.set_title(0, 'Logs')\n",
    "        logAccordion.children = (loggingHandler,)\n",
    "        logAccordion.add_class('logAccordion')\n",
    "        display(logAccordion)\n",
    "        logger.info('Initializing GUI...')\n",
    "        \n",
    "        # other app components\n",
    "        '''\n",
    "        main = ipyw.Tab( children = ( ipyw.IntSlider(\n",
    "                value=7,\n",
    "                min=0,\n",
    "                max=10,\n",
    "                step=1,\n",
    "                description='Test:',\n",
    "                disabled=False,\n",
    "            ),)\n",
    "        )\n",
    "        main.set_title(0, 'My Application')\n",
    "        display(main)\n",
    "        '''\n",
    "        html = '''\n",
    "        <script data-main=\"/js/config.js\" src=\"js/require.js\"></script>\n",
    "        <script>\n",
    "        //alert(window.location.pathname);\n",
    "        require(['config'], function() {\n",
    "            alert(\"bar\")\n",
    "        })\n",
    "        </script>\n",
    "        '''\n",
    "        display(HTML(html))\n",
    "        \n",
    "    "
   ]
  },
  {
   "cell_type": "code",
   "execution_count": 14,
   "metadata": {},
   "outputs": [
    {
     "data": {
      "application/javascript": [
       "js/require.js"
      ],
      "text/plain": [
       "<IPython.core.display.Javascript object>"
      ]
     },
     "metadata": {},
     "output_type": "display_data"
    },
    {
     "data": {
      "application/javascript": [
       "\n",
       "require.config({\n",
       "    baseUrl: \n",
       "})\n"
      ],
      "text/plain": [
       "<IPython.core.display.Javascript object>"
      ]
     },
     "metadata": {},
     "output_type": "display_data"
    },
    {
     "data": {
      "application/vnd.jupyter.widget-view+json": {
       "model_id": "d172eb31e4f14642b9cb801429b4ece4",
       "version_major": 2,
       "version_minor": 0
      },
      "text/plain": [
       "Accordion(children=(Textarea(value='__main__:34: Log handler setup complete.\\n', disabled=True, layout=Layout(…"
      ]
     },
     "metadata": {},
     "output_type": "display_data"
    },
    {
     "data": {
      "text/html": [
       "\n",
       "        <script data-main=\"/js/config.js\" src=\"js/require.js\"></script>\n",
       "        <script>\n",
       "        //alert(window.location.pathname);\n",
       "        require(['config'], function() {\n",
       "            alert(\"bar\")\n",
       "        })\n",
       "        </script>\n",
       "        "
      ],
      "text/plain": [
       "<IPython.core.display.HTML object>"
      ]
     },
     "metadata": {},
     "output_type": "display_data"
    }
   ],
   "source": [
    "# app.py\n",
    "display(Javascript('js/require.js'))\n",
    "display(Javascript('''\n",
    "require.config({\n",
    "    baseUrl: \n",
    "})\n",
    "'''))\n",
    "\n",
    "app = Interface()"
   ]
  },
  {
   "cell_type": "code",
   "execution_count": 15,
   "metadata": {},
   "outputs": [
    {
     "data": {
      "application/javascript": [
       "// Make logAccordion be the last output_area in the output div\n",
       "// Note: we renderit first so we can log errors as the main tabs are being displayed \n",
       "document.getElementsByClassName('logAccordion')[0].parentElement.parentElement.style.order = 100;\n",
       "\n",
       "// how we talk to python\n",
       "var kernel = IPython.notebook.kernel;\n",
       "\n",
       "// log: adds log messages to the logTextarea belonging to the log accordion\n",
       "function log(msg) {\n",
       "    kernel.execute(\"app.loggingHandler.widget.value += 'javascript: \" + msg + \"'\");\n",
       "}\n",
       "\n",
       "log('Hello from Javascript!');\n"
      ],
      "text/plain": [
       "<IPython.core.display.Javascript object>"
      ]
     },
     "metadata": {},
     "output_type": "display_data"
    }
   ],
   "source": [
    "%%js\n",
    "// Make logAccordion be the last output_area in the output div\n",
    "// Note: we renderit first so we can log errors as the main tabs are being displayed \n",
    "document.getElementsByClassName('logAccordion')[0].parentElement.parentElement.style.order = 100;\n",
    "\n",
    "// how we talk to python\n",
    "var kernel = IPython.notebook.kernel;\n",
    "\n",
    "// log: adds log messages to the logTextarea belonging to the log accordion\n",
    "function log(msg) {\n",
    "    kernel.execute(\"app.loggingHandler.widget.value += 'javascript: \" + msg + \"'\");\n",
    "}\n",
    "\n",
    "log('Hello from Javascript!');"
   ]
  },
  {
   "cell_type": "markdown",
   "metadata": {},
   "source": [
    "## Splitting the cells files\n",
    "You may want to put the code above in separate files so that you have a single cell that runs your entire interface. \n",
    "This require only a few simple modifications. Potential names for these files are indicated by a comment at the top of each cell.\n",
    "\n",
    "In order to import the log hander from `log.py` into any other file in our project, we simply add the following two lines:\n",
    "```bash\n",
    "import log\n",
    "logger = log.HANDLER.createLogger(__name__)\n",
    "```\n",
    "We would also replace `logger = HANDLER.createLogger(__name__)` with these lines in `interface.py`.\n",
    "\n"
   ]
  },
  {
   "cell_type": "code",
   "execution_count": null,
   "metadata": {},
   "outputs": [],
   "source": []
  }
 ],
 "metadata": {
  "kernelspec": {
   "display_name": "Python 3",
   "language": "python",
   "name": "python3"
  },
  "language_info": {
   "codemirror_mode": {
    "name": "ipython",
    "version": 3
   },
   "file_extension": ".py",
   "mimetype": "text/x-python",
   "name": "python",
   "nbconvert_exporter": "python",
   "pygments_lexer": "ipython3",
   "version": "3.9.4"
  }
 },
 "nbformat": 4,
 "nbformat_minor": 4
}
